{
 "cells": [
  {
   "cell_type": "code",
   "execution_count": null,
   "metadata": {},
   "outputs": [],
   "source": [
    "from __future__ import print_function\n",
    "import keras\n",
    "from keras.datasets import cifar10\n",
    "from keras.preprocessing.image import ImageDataGenerator\n",
    "from keras.models import Sequential\n",
    "from keras.layers import Dense, Dropout, Activation, Flatten, BatchNormalization\n",
    "from keras.layers import Conv2D, MaxPooling2D\n",
    "import os\n",
    "\n",
    "\n",
    "batch_size = 32\n",
    "num_classes = 10\n",
    "epochs = 100\n",
    "data_augmentation = True\n",
    "num_predictions = 20\n",
    "save_dir = os.path.join(os.getcwd(), 'saved_models')\n",
    "model_name = 'keras_cifar10_trained_model.h5'"
   ]
  },
  {
   "cell_type": "code",
   "execution_count": null,
   "metadata": {},
   "outputs": [],
   "source": [
    "# The data, split between train and test sets:\n",
    "\n",
    "(x_train, y_train), (x_test, y_test) = cifar10.load_data()\n",
    "print('x_train shape:', x_train.shape)\n",
    "print(x_train.shape[0], 'train samples')\n",
    "print(x_test.shape[0], 'test samples')\n",
    "\n",
    "# Convert class vectors to binary class matrices.\n",
    "y_train = keras.utils.to_categorical(y_train, num_classes)\n",
    "y_test = keras.utils.to_categorical(y_test, num_classes)\n",
    "x_train = x_train.astype('float32')\n",
    "x_test = x_test.astype('float32')\n",
    "x_train /= 255\n",
    "x_test /= 255"
   ]
  },
  {
   "cell_type": "code",
   "execution_count": null,
   "metadata": {},
   "outputs": [],
   "source": [
    "from fedml import Alliance, AllianceMember,KerasSequentialBaseLearner, FedAveragingClassifier\n",
    "from read_data import read_training_data\n",
    "import numpy as np\n",
    "\n",
    "alliance = Alliance()\n",
    "M=10\n",
    "def split_data(x,y,fractions):\n",
    "    s = len(x)\n",
    "    new_order = np.random.permutation(s)\n",
    "    x = x[new_order]\n",
    "    y = y[new_order]\n",
    "    if type(fractions) is int:\n",
    "        fraction_splits = np.int32(np.linspace(0,s,fractions+1))\n",
    "        nr = fractions\n",
    "    elif type(fractions)==np.ndarray or type(fractions)==list:\n",
    "        parts = np.array(fractions)*s/np.sum(fractions)\n",
    "        fraction_splits = np.int32([np.sum(parts[:i]) for i in range(len(parts)+1)])\n",
    "        nr = len(parts)\n",
    "        \n",
    "    x_list = []\n",
    "    y_list = []\n",
    "    for i in range(nr):\n",
    "        x_list.append(x[fraction_splits[i]:fraction_splits[i+1]]) \n",
    "        y_list.append(y[fraction_splits[i]:fraction_splits[i+1]])\n",
    "\n",
    "    return x_list,y_list\n",
    "F = [10,10,8,8,6,6,4,4,2,2,1,1]\n",
    "M = len(F)\n",
    "x_train_splits, y_train_splits = split_data(x_train,y_train,fractions=F)\n",
    "x_test_splits, y_test_splits = split_data(x_test,y_test,fractions=F)\n",
    "print(\"x_train shape: \", np.array(x_train).shape)\n",
    "tot_len = 0\n",
    "for split in x_train_splits:\n",
    "    print(\"x_train_splits shape: \", split.shape)\n",
    "    tot_len += len(split)\n",
    "print(\"tot len: \", tot_len)\n",
    "alliance.set_validation_dataset(x_test,y_test)\n",
    "\n",
    "classes = np.arange(10)\n",
    "for i in range(M):\n",
    "    member = AllianceMember(x_train_splits[i], y_train_splits[i], classes=classes)\n",
    "    alliance.add_member(member)"
   ]
  },
  {
   "cell_type": "code",
   "execution_count": null,
   "metadata": {},
   "outputs": [],
   "source": [
    "from cifarmodel import KerasSequentialCifar\n",
    "\n",
    "base_learner = KerasSequentialCifar()\n",
    "fedavg_model = FedAveragingClassifier(alliance=alliance,base_learner=base_learner)\n"
   ]
  },
  {
   "cell_type": "code",
   "execution_count": null,
   "metadata": {},
   "outputs": [],
   "source": [
    "parameters = {\"nr_global_iterations\": 300, \"nr_local_iterations\":1, \"training_steps\": None, \"data_augmentation\": True, \"model_size_averaging\": True} \n",
    "training_loss, test_loss = fedavg_model.fit(parameters)"
   ]
  },
  {
   "cell_type": "code",
   "execution_count": null,
   "metadata": {},
   "outputs": [],
   "source": [
    "from matplotlib import pylab as plt\n",
    "import pickle\n",
    "pickle.dump(fedavg_model.test_loss,open('test_loss_500e_12members_diffsizes.p','wb'))\n",
    "\n",
    "\n",
    "plt.plot(fedavg_model.test_loss)\n",
    "plt.savefig('accuracy_progress')\n",
    "plt.show()\n"
   ]
  },
  {
   "cell_type": "code",
   "execution_count": null,
   "metadata": {},
   "outputs": [],
   "source": []
  }
 ],
 "metadata": {
  "kernelspec": {
   "display_name": "Python 3",
   "language": "python",
   "name": "python3"
  },
  "language_info": {
   "codemirror_mode": {
    "name": "ipython",
    "version": 3
   },
   "file_extension": ".py",
   "mimetype": "text/x-python",
   "name": "python",
   "nbconvert_exporter": "python",
   "pygments_lexer": "ipython3",
   "version": "3.7.3"
  }
 },
 "nbformat": 4,
 "nbformat_minor": 2
}
